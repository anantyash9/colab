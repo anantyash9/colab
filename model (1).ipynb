{
  "nbformat": 4,
  "nbformat_minor": 0,
  "metadata": {
    "colab": {
      "name": "model.ipynb",
      "version": "0.3.2",
      "views": {},
      "default_view": {},
      "provenance": []
    },
    "kernelspec": {
      "display_name": "Python 3",
      "language": "python",
      "name": "python3"
    },
    "accelerator": "GPU"
  },
  "cells": [
    {
      "metadata": {
        "id": "fqpam2g4ZSzp",
        "colab_type": "code",
        "colab": {
          "autoexec": {
            "startup": false,
            "wait_interval": 0
          },
          "base_uri": "https://localhost:8080/",
          "height": 34
        },
        "outputId": "cb501a38-d0ad-4e78-bf0a-990519ec6932",
        "executionInfo": {
          "status": "ok",
          "timestamp": 1533284027595,
          "user_tz": -330,
          "elapsed": 11583,
          "user": {
            "displayName": "",
            "photoUrl": "",
            "userId": ""
          }
        }
      },
      "cell_type": "code",
      "source": [
        "#Start of import section\n",
        "import os\n",
        "import cv2\n",
        "import numpy as np\n",
        "import matplotlib.pyplot as plt\n",
        "import sklearn\n",
        "from sklearn.model_selection import train_test_split\n",
        "import csv\n",
        "import pandas\n",
        "from keras.models import Sequential\n",
        "from keras.layers import Flatten, Dense, Lambda, Conv2D, Activation, Cropping2D, MaxPooling2D, Dropout, Reshape, Convolution2D\n",
        "#from keras.layers import softmax\n",
        "from os import listdir\n",
        "from os.path import isfile, join\n",
        "import glob\n",
        "import PIL\n",
        "from PIL import Image\n",
        "import math\n",
        "#end of import section\n",
        "#include all the imports within this section."
      ],
      "execution_count": 1,
      "outputs": [
        {
          "output_type": "stream",
          "text": [
            "Using TensorFlow backend.\n"
          ],
          "name": "stderr"
        }
      ]
    },
    {
      "metadata": {
        "id": "IBgQ2spp2b-h",
        "colab_type": "code",
        "colab": {
          "autoexec": {
            "startup": false,
            "wait_interval": 0
          },
          "base_uri": "https://localhost:8080/",
          "height": 119
        },
        "outputId": "5fdffc67-10c0-461f-c230-3946245a8819",
        "executionInfo": {
          "status": "ok",
          "timestamp": 1533286534034,
          "user_tz": -330,
          "elapsed": 9368,
          "user": {
            "displayName": "",
            "photoUrl": "",
            "userId": ""
          }
        }
      },
      "cell_type": "code",
      "source": [
        "!rm -rf colab\n",
        "!git clone https://github.com/anantyash9/colab.git"
      ],
      "execution_count": 18,
      "outputs": [
        {
          "output_type": "stream",
          "text": [
            "Cloning into 'colab'...\n",
            "remote: Counting objects: 3419, done.\u001b[K\n",
            "remote: Compressing objects: 100% (3406/3406), done.\u001b[K\n",
            "remote: Total 3419 (delta 12), reused 3413 (delta 11), pack-reused 0\u001b[K\n",
            "Receiving objects: 100% (3419/3419), 80.74 MiB | 24.95 MiB/s, done.\n",
            "Resolving deltas: 100% (12/12), done.\n"
          ],
          "name": "stdout"
        }
      ]
    },
    {
      "metadata": {
        "id": "512BiQYOZSz4",
        "colab_type": "code",
        "colab": {
          "autoexec": {
            "startup": false,
            "wait_interval": 0
          }
        }
      },
      "cell_type": "code",
      "source": [
        "#Implementation The Nvidia end to end driving neural net architecture. \n",
        "#Added a dropout layer after the 1st convolution_layer to  mitigate overfitting\n",
        "#Default drop probablity for any dropout layer added is kept at 0.2.\n",
        "def NvidiaNet(drop_prob = 0.2):\n",
        "    #create a sequential Model\n",
        "    model = Sequential()\n",
        "    \n",
        "    #Add a Cropping layer to trim the unneeded portions of the IMAGE from the feed\n",
        "    #model.add(Cropping2D)\n",
        "    #model.add(Reshape((50,50,3), input_shape=(None,None,3))\n",
        "    model.add(Cropping2D(cropping = ((0, 0), (0,0)), input_shape = (100 ,100 ,3)))\n",
        "    \n",
        "    #Normalization Layer\n",
        "    #model.add(Lambda(lambda X_input: (X_input/255.0 - 0.5)))\n",
        "\n",
        "    #Conv2D Layer 1 with 5 x 5 kernal size\n",
        "    #model.add(Convolution2D(nb_filter = 3, nb_row = 5, nb_col = 5))\n",
        "    model.add(Convolution2D(nb_filter = 3, nb_row = 3, nb_col = 3, subsample=(1,1)))\n",
        "    model.add(Activation('relu'))\n",
        "\n",
        "    #Dropout layer\n",
        "    model.add(Dropout(drop_prob))\n",
        "    \n",
        "    #Conv2D Layer 2 with 5 x 5 kernal size\n",
        "    #model.add(Convolution2D(nb_filter = 24, nb_row = 5, nb_col = 5))\n",
        "    model.add(Conv2D(nb_filter = 24, nb_row = 3, nb_col = 3,subsample=(2,2)))\n",
        "    model.add(Activation('relu'))\n",
        "\n",
        "    #Conv2D Layer 3 with 5 x 5 kernal size\n",
        "    #model.add(Convolution2D(nb_filter = 36, nb_row = 5, nb_col =  5))\n",
        "    model.add(Conv2D(nb_filter = 36, nb_row = 3, nb_col =  3,subsample=(1,1)))\n",
        "    model.add(Activation('relu'))\n",
        "    \n",
        "    #Dropout layer\n",
        "    model.add(Dropout(drop_prob))\n",
        "\n",
        "    #Conv2D Layer 4 with 3 x 3 kernal size\n",
        "    #model.add(Convolution2D(nb_filter = 48, nb_row = 3, nb_col = 3))\n",
        "    model.add(Conv2D(nb_filter = 48, nb_row = 3, nb_col = 3))\n",
        "    model.add(Activation('relu'))\n",
        "\n",
        "    #Conv2D Layer 5 with 3 x 3 kernal size\n",
        "    #model.add(Convolution2D(nb_filter = 48, nb_row = 3, nb_col = 3))\n",
        "    model.add(Conv2D(nb_filter = 64, nb_row = 3, nb_col = 3))\n",
        "    model.add(Activation('relu'))\n",
        "\n",
        "    #flatten layer\n",
        "    #flatten the output from convolution Layer\n",
        "    model.add(Flatten())\n",
        "\n",
        "    #Fully connected layer 1\n",
        "    model.add(Dense(output_dim = 50))\n",
        "\n",
        "    #Fully connected Layer 2\n",
        "    model.add(Dense(output_dim = 25))\n",
        "\n",
        "    #Fully connected Layer 3\n",
        "    model.add(Dense(output_dim = 10))\n",
        "\n",
        "    #output Layers\n",
        "    model.add(Dense(output_dim = 2, activation='softmax') )\n",
        "\n",
        "    return model\n"
      ],
      "execution_count": 0,
      "outputs": []
    },
    {
      "metadata": {
        "id": "YdhtqXeGZS0E",
        "colab_type": "code",
        "colab": {
          "autoexec": {
            "startup": false,
            "wait_interval": 0
          },
          "base_uri": "https://localhost:8080/",
          "height": 938
        },
        "outputId": "8d6d7bb9-4603-41d3-9226-920d9ffd89b0",
        "executionInfo": {
          "status": "ok",
          "timestamp": 1533284140734,
          "user_tz": -330,
          "elapsed": 998,
          "user": {
            "displayName": "",
            "photoUrl": "",
            "userId": ""
          }
        }
      },
      "cell_type": "code",
      "source": [
        "model = NvidiaNet(drop_prob = 0.2)\n",
        "model.summary()"
      ],
      "execution_count": 5,
      "outputs": [
        {
          "output_type": "stream",
          "text": [
            "_________________________________________________________________\n",
            "Layer (type)                 Output Shape              Param #   \n",
            "=================================================================\n",
            "cropping2d_1 (Cropping2D)    (None, 100, 100, 3)       0         \n",
            "_________________________________________________________________\n",
            "conv2d_1 (Conv2D)            (None, 98, 98, 3)         84        \n",
            "_________________________________________________________________\n",
            "activation_1 (Activation)    (None, 98, 98, 3)         0         \n",
            "_________________________________________________________________\n",
            "dropout_1 (Dropout)          (None, 98, 98, 3)         0         \n",
            "_________________________________________________________________\n",
            "conv2d_2 (Conv2D)            (None, 48, 48, 24)        672       \n",
            "_________________________________________________________________\n",
            "activation_2 (Activation)    (None, 48, 48, 24)        0         \n",
            "_________________________________________________________________\n",
            "conv2d_3 (Conv2D)            (None, 46, 46, 36)        7812      \n",
            "_________________________________________________________________\n",
            "activation_3 (Activation)    (None, 46, 46, 36)        0         \n",
            "_________________________________________________________________\n",
            "dropout_2 (Dropout)          (None, 46, 46, 36)        0         \n",
            "_________________________________________________________________\n",
            "conv2d_4 (Conv2D)            (None, 44, 44, 48)        15600     \n",
            "_________________________________________________________________\n",
            "activation_4 (Activation)    (None, 44, 44, 48)        0         \n",
            "_________________________________________________________________\n",
            "conv2d_5 (Conv2D)            (None, 42, 42, 64)        27712     \n",
            "_________________________________________________________________\n",
            "activation_5 (Activation)    (None, 42, 42, 64)        0         \n",
            "_________________________________________________________________\n",
            "flatten_1 (Flatten)          (None, 112896)            0         \n",
            "_________________________________________________________________\n",
            "dense_1 (Dense)              (None, 50)                5644850   \n",
            "_________________________________________________________________\n",
            "dense_2 (Dense)              (None, 25)                1275      \n",
            "_________________________________________________________________\n",
            "dense_3 (Dense)              (None, 10)                260       \n",
            "_________________________________________________________________\n",
            "dense_4 (Dense)              (None, 2)                 22        \n",
            "=================================================================\n",
            "Total params: 5,698,287\n",
            "Trainable params: 5,698,287\n",
            "Non-trainable params: 0\n",
            "_________________________________________________________________\n"
          ],
          "name": "stdout"
        },
        {
          "output_type": "stream",
          "text": [
            "/usr/local/lib/python3.6/dist-packages/ipykernel_launcher.py:15: UserWarning: Update your `Conv2D` call to the Keras 2 API: `Conv2D(kernel_size=(3, 3), filters=3, strides=(1, 1))`\n",
            "  from ipykernel import kernelapp as app\n",
            "/usr/local/lib/python3.6/dist-packages/ipykernel_launcher.py:23: UserWarning: Update your `Conv2D` call to the Keras 2 API: `Conv2D(kernel_size=(3, 3), filters=24, strides=(2, 2))`\n",
            "/usr/local/lib/python3.6/dist-packages/ipykernel_launcher.py:28: UserWarning: Update your `Conv2D` call to the Keras 2 API: `Conv2D(kernel_size=(3, 3), filters=36, strides=(1, 1))`\n",
            "/usr/local/lib/python3.6/dist-packages/ipykernel_launcher.py:36: UserWarning: Update your `Conv2D` call to the Keras 2 API: `Conv2D(kernel_size=(3, 3), filters=48)`\n",
            "/usr/local/lib/python3.6/dist-packages/ipykernel_launcher.py:41: UserWarning: Update your `Conv2D` call to the Keras 2 API: `Conv2D(kernel_size=(3, 3), filters=64)`\n",
            "/usr/local/lib/python3.6/dist-packages/ipykernel_launcher.py:49: UserWarning: Update your `Dense` call to the Keras 2 API: `Dense(units=50)`\n",
            "/usr/local/lib/python3.6/dist-packages/ipykernel_launcher.py:52: UserWarning: Update your `Dense` call to the Keras 2 API: `Dense(units=25)`\n",
            "/usr/local/lib/python3.6/dist-packages/ipykernel_launcher.py:55: UserWarning: Update your `Dense` call to the Keras 2 API: `Dense(units=10)`\n",
            "/usr/local/lib/python3.6/dist-packages/ipykernel_launcher.py:58: UserWarning: Update your `Dense` call to the Keras 2 API: `Dense(activation=\"softmax\", units=2)`\n"
          ],
          "name": "stderr"
        }
      ]
    },
    {
      "metadata": {
        "id": "1WCKVmiYZS0Q",
        "colab_type": "code",
        "colab": {
          "autoexec": {
            "startup": false,
            "wait_interval": 0
          }
        }
      },
      "cell_type": "code",
      "source": [
        "\n",
        "def list_files(path):\n",
        "    #files = [f for f in listdir(path) if isfile(join(path, f))]\n",
        "    #return files\n",
        "    return glob.glob(path)\n",
        "\n",
        "#Perform horizontal flip and return the image and angles\n",
        "def horizontal_flip(img):\n",
        "    hor_flip = cv2.flip(img, 1)\n",
        "    return hor_flip\n",
        "\n",
        "def make_square(im, min_size=100, fill_color=(0, 0, 0, 0)):\n",
        "    x, y = im.size\n",
        "    size = max(min_size, x, y)\n",
        "    new_im = Image.new('RGB', (size, size), fill_color)\n",
        "    #print((int((size - x) / 2), int(size - y) / 2))\n",
        "    new_im.paste(im, (int((size - x) / 2), int((size - y) / 2)))\n",
        "    return new_im\n",
        "\n",
        "#Takes a image path as input and reads the corresponding image from the disk present in the ./data path.\n",
        "#converts the image to RGB color model and returns it.\n",
        "def read_image(path):\n",
        "    img = PIL.Image.open(path).convert('RGB')\n",
        "    img = make_square(img)\n",
        "    img = img.resize((100, 100), Image.ANTIALIAS)\n",
        "    img = np.asarray(img)\n",
        "    img = (img/255)-0.5\n",
        "    #open_cv_image = numpy.array(pil_image) \n",
        "    # Convert RGB to BGR \n",
        "    #open_cv_image = open_cv_image[:, :, ::-1].copy()\n",
        "    #img = cv2.imread(path)\n",
        "    \n",
        "    #img = cv2.resize(img, (100, 100))\n",
        "    #rgb = cv2.cvtColor(img, cv2.COLOR_BGR2RGB)\n",
        "    #print(rgb.shape)\n",
        "    return img\n",
        "\n",
        "\n",
        "#outputs the images and the measurements for the corresponding images persistantly as a subroutine\n",
        "def generator(samples, batch_size = 32): \n",
        "    num_samples = len(samples)\n",
        "    print(num_samples)\n",
        "    while 1: #to run the generator indefinitely, pumping the X, Y sets for the neural network\n",
        "        #shuffle the samples on each EPOCH\n",
        "        sklearn.utils.shuffle(samples)\n",
        "        for offset in range(0, num_samples, batch_size):\n",
        "            batch_samples = samples[offset: offset + batch_size]\n",
        "            \n",
        "            images = []\n",
        "            labels = []\n",
        "\n",
        "            for batch_sample in batch_samples:\n",
        "                \n",
        "                '''\n",
        "                read the image from center camera directly from the disk. \n",
        "                No color model conversion performed for the center image\n",
        "                center image flipped and taken as input irrespective of the center angle.\n",
        "                '''\n",
        "                \n",
        "                name =  batch_sample[0]\n",
        "                image = read_image(name)\n",
        "                images.append(image)\n",
        "                labels.append(batch_sample[1])\n",
        "                #flip_output = horizontal_flip(center_image, center_angle)\n",
        "                #images.append(flip_output[0])\n",
        "                #angles.append(flip_output[1])\n",
        "                \n",
        "                \n",
        "            #Convert the cv2 images and the measurements into numpy array\n",
        "            X_train = np.array(images)\n",
        "            Y_train = np.array(labels)\n",
        "            yield sklearn.utils.shuffle(X_train, Y_train)\n"
      ],
      "execution_count": 0,
      "outputs": []
    },
    {
      "metadata": {
        "id": "qbaHQtI-ZS0Y",
        "colab_type": "code",
        "colab": {
          "autoexec": {
            "startup": false,
            "wait_interval": 0
          },
          "base_uri": "https://localhost:8080/",
          "height": 231
        },
        "outputId": "a85ed1a2-0b91-4f62-b916-f21b19463fc0",
        "executionInfo": {
          "status": "error",
          "timestamp": 1533284738467,
          "user_tz": -330,
          "elapsed": 993,
          "user": {
            "displayName": "",
            "photoUrl": "",
            "userId": ""
          }
        }
      },
      "cell_type": "code",
      "source": [
        "#testing\n",
        "def load_trained_model(weights_path):\n",
        "    model = NvidiaNet()\n",
        "    model.load_weights(weights_path)\n",
        "    return model\n",
        "\n",
        "\n",
        "#fishing = load_trained_model(\"./model.h5\")\n",
        "\n",
        "#score = fishing.evaluate(x_test, y_test, batch_size=32)\n",
        "img = read_image(samples[10][0])\n",
        "#prediction = fishing.predict(np.expand_dims(img, axis=0))\n",
        "plt.imshow(img)\n",
        "plt.show()\n",
        "#print(prediction)"
      ],
      "execution_count": 7,
      "outputs": [
        {
          "output_type": "error",
          "ename": "NameError",
          "evalue": "ignored",
          "traceback": [
            "\u001b[0;31m---------------------------------------------------------------------------\u001b[0m",
            "\u001b[0;31mNameError\u001b[0m                                 Traceback (most recent call last)",
            "\u001b[0;32m<ipython-input-7-f0ec063610b8>\u001b[0m in \u001b[0;36m<module>\u001b[0;34m()\u001b[0m\n\u001b[1;32m      8\u001b[0m \u001b[0;34m\u001b[0m\u001b[0m\n\u001b[1;32m      9\u001b[0m \u001b[0;31m#score = fishing.evaluate(x_test, y_test, batch_size=32)\u001b[0m\u001b[0;34m\u001b[0m\u001b[0;34m\u001b[0m\u001b[0m\n\u001b[0;32m---> 10\u001b[0;31m \u001b[0mimg\u001b[0m \u001b[0;34m=\u001b[0m \u001b[0mread_image\u001b[0m\u001b[0;34m(\u001b[0m\u001b[0msamples\u001b[0m\u001b[0;34m[\u001b[0m\u001b[0;36m10\u001b[0m\u001b[0;34m]\u001b[0m\u001b[0;34m[\u001b[0m\u001b[0;36m0\u001b[0m\u001b[0;34m]\u001b[0m\u001b[0;34m)\u001b[0m\u001b[0;34m\u001b[0m\u001b[0m\n\u001b[0m\u001b[1;32m     11\u001b[0m \u001b[0;31m#prediction = fishing.predict(np.expand_dims(img, axis=0))\u001b[0m\u001b[0;34m\u001b[0m\u001b[0;34m\u001b[0m\u001b[0m\n\u001b[1;32m     12\u001b[0m \u001b[0mplt\u001b[0m\u001b[0;34m.\u001b[0m\u001b[0mimshow\u001b[0m\u001b[0;34m(\u001b[0m\u001b[0mimg\u001b[0m\u001b[0;34m)\u001b[0m\u001b[0;34m\u001b[0m\u001b[0m\n",
            "\u001b[0;31mNameError\u001b[0m: name 'samples' is not defined"
          ]
        }
      ]
    },
    {
      "metadata": {
        "id": "kKELirRwZS0s",
        "colab_type": "code",
        "colab": {
          "autoexec": {
            "startup": false,
            "wait_interval": 0
          }
        }
      },
      "cell_type": "code",
      "source": [
        "def process_files(list_files, label):\n",
        "    output = []\n",
        "    for i in list_files:\n",
        "        temp = []\n",
        "        temp.append(i)\n",
        "        l = [0, 0]\n",
        "        l[label] = 1.\n",
        "        temp.append(l)\n",
        "        output.append(temp)\n",
        "    return output\n",
        "\n",
        "#print(process_files(['a','b','c','d'], 0))"
      ],
      "execution_count": 0,
      "outputs": []
    },
    {
      "metadata": {
        "id": "ScClLCEn3wbV",
        "colab_type": "code",
        "colab": {
          "autoexec": {
            "startup": false,
            "wait_interval": 0
          }
        }
      },
      "cell_type": "code",
      "source": [
        "#legit 1, Nope 0\n",
        "samples_legit = list_files(\"./colab/clothes_data/legit/*.jpg\")[:100]\n",
        "samples_nope = list_files(\"./colab/clothes_data/nope/*.jpg\")[:100]"
      ],
      "execution_count": 0,
      "outputs": []
    },
    {
      "metadata": {
        "id": "_fK1C8BK33LH",
        "colab_type": "code",
        "colab": {
          "autoexec": {
            "startup": false,
            "wait_interval": 0
          }
        }
      },
      "cell_type": "code",
      "source": [
        "def make_flips(samples):\n",
        "  for files in samples:\n",
        "    img = cv2.imread(files)\n",
        "    new_name = files[:-4]+'_flip.jpg'\n",
        "    vertical_img = cv2.flip( img, 1 )\n",
        "    cv2.imwrite(new_name,vertical_img)\n",
        "make_flips(samples_nope)    "
      ],
      "execution_count": 0,
      "outputs": []
    },
    {
      "metadata": {
        "id": "Td6PvrvpZS04",
        "colab_type": "code",
        "colab": {
          "autoexec": {
            "startup": false,
            "wait_interval": 0
          },
          "base_uri": "https://localhost:8080/",
          "height": 51
        },
        "outputId": "e242b7d2-4767-40ed-c372-d9bd91d8d23a",
        "executionInfo": {
          "status": "ok",
          "timestamp": 1533286676250,
          "user_tz": -330,
          "elapsed": 1134,
          "user": {
            "displayName": "",
            "photoUrl": "",
            "userId": ""
          }
        }
      },
      "cell_type": "code",
      "source": [
        "#samples_nope = list_files(\"./colab/clothes_data/nope/*.jpg\")\n",
        "print(len(samples_legit))\n",
        "print(len(samples_nope))\n",
        "samples = process_files(samples_legit, 1) + process_files(samples_nope, 0)"
      ],
      "execution_count": 24,
      "outputs": [
        {
          "output_type": "stream",
          "text": [
            "100\n",
            "100\n"
          ],
          "name": "stdout"
        }
      ]
    },
    {
      "metadata": {
        "id": "S2Gvt3L8ZS1E",
        "colab_type": "code",
        "colab": {
          "autoexec": {
            "startup": false,
            "wait_interval": 0
          },
          "base_uri": "https://localhost:8080/",
          "height": 34
        },
        "outputId": "48062d61-d6f8-491f-9f4c-d68ae08d2ac9",
        "executionInfo": {
          "status": "ok",
          "timestamp": 1533286680463,
          "user_tz": -330,
          "elapsed": 1329,
          "user": {
            "displayName": "",
            "photoUrl": "",
            "userId": ""
          }
        }
      },
      "cell_type": "code",
      "source": [
        "#testing\n",
        "\n",
        "train_samples, validation_samples = train_test_split(samples, test_size=0.2)\n",
        "print(train_samples[1])"
      ],
      "execution_count": 25,
      "outputs": [
        {
          "output_type": "stream",
          "text": [
            "['./colab/clothes_data/legit/image_1158.jpg', [0, 1.0]]\n"
          ],
          "name": "stdout"
        }
      ]
    },
    {
      "metadata": {
        "id": "vwLTdJu3ZS1M",
        "colab_type": "code",
        "colab": {
          "autoexec": {
            "startup": false,
            "wait_interval": 0
          },
          "base_uri": "https://localhost:8080/",
          "height": 1176
        },
        "outputId": "25247e93-389a-4d39-86a0-74836daae531",
        "executionInfo": {
          "status": "ok",
          "timestamp": 1533287749771,
          "user_tz": -330,
          "elapsed": 73330,
          "user": {
            "displayName": "",
            "photoUrl": "",
            "userId": ""
          }
        }
      },
      "cell_type": "code",
      "source": [
        "#The execution portion of the code.\n",
        "#save a model\n",
        "\n",
        "model = NvidiaNet(drop_prob = 0.2)\n",
        "model.summary()\n",
        "model.compile(loss='mse', optimizer='adam')\n",
        "\n",
        "\n",
        "sklearn.utils.shuffle(samples)\n",
        "train_samples, validation_samples = train_test_split(samples, test_size=0.2)\n",
        "print(train_samples[1])\n",
        "\n",
        "#Hyperparameters\n",
        "train_generator = generator(train_samples, 16)\n",
        "validation_generator = generator(validation_samples)\n",
        "epoch = 4\n",
        "#end of hyperparameters\n",
        "\n",
        "history = model.fit_generator(train_generator, samples_per_epoch = len(train_samples), validation_data = validation_generator,\\\n",
        "                   nb_val_samples = len(validation_samples), nb_epoch = epoch)\n",
        "model.save(\"model.h5\")\n",
        "print(\"Model Generated\")\n",
        "\n"
      ],
      "execution_count": 35,
      "outputs": [
        {
          "output_type": "stream",
          "text": [
            "/usr/local/lib/python3.6/dist-packages/ipykernel_launcher.py:15: UserWarning: Update your `Conv2D` call to the Keras 2 API: `Conv2D(kernel_size=(3, 3), filters=3, strides=(1, 1))`\n",
            "  from ipykernel import kernelapp as app\n",
            "/usr/local/lib/python3.6/dist-packages/ipykernel_launcher.py:23: UserWarning: Update your `Conv2D` call to the Keras 2 API: `Conv2D(kernel_size=(3, 3), filters=24, strides=(2, 2))`\n",
            "/usr/local/lib/python3.6/dist-packages/ipykernel_launcher.py:28: UserWarning: Update your `Conv2D` call to the Keras 2 API: `Conv2D(kernel_size=(3, 3), filters=36, strides=(1, 1))`\n",
            "/usr/local/lib/python3.6/dist-packages/ipykernel_launcher.py:36: UserWarning: Update your `Conv2D` call to the Keras 2 API: `Conv2D(kernel_size=(3, 3), filters=48)`\n",
            "/usr/local/lib/python3.6/dist-packages/ipykernel_launcher.py:41: UserWarning: Update your `Conv2D` call to the Keras 2 API: `Conv2D(kernel_size=(3, 3), filters=64)`\n",
            "/usr/local/lib/python3.6/dist-packages/ipykernel_launcher.py:49: UserWarning: Update your `Dense` call to the Keras 2 API: `Dense(units=50)`\n",
            "/usr/local/lib/python3.6/dist-packages/ipykernel_launcher.py:52: UserWarning: Update your `Dense` call to the Keras 2 API: `Dense(units=25)`\n",
            "/usr/local/lib/python3.6/dist-packages/ipykernel_launcher.py:55: UserWarning: Update your `Dense` call to the Keras 2 API: `Dense(units=10)`\n",
            "/usr/local/lib/python3.6/dist-packages/ipykernel_launcher.py:58: UserWarning: Update your `Dense` call to the Keras 2 API: `Dense(activation=\"softmax\", units=2)`\n",
            "/usr/local/lib/python3.6/dist-packages/ipykernel_launcher.py:17: UserWarning: The semantics of the Keras 2 argument `steps_per_epoch` is not the same as the Keras 1 argument `samples_per_epoch`. `steps_per_epoch` is the number of batches to draw from the generator at each epoch. Basically steps_per_epoch = samples_per_epoch/batch_size. Similarly `nb_val_samples`->`validation_steps` and `val_samples`->`steps` arguments have changed. Update your method calls accordingly.\n",
            "/usr/local/lib/python3.6/dist-packages/ipykernel_launcher.py:17: UserWarning: Update your `fit_generator` call to the Keras 2 API: `fit_generator(<generator..., validation_data=<generator..., steps_per_epoch=160, epochs=4, validation_steps=40)`\n"
          ],
          "name": "stderr"
        },
        {
          "output_type": "stream",
          "text": [
            "_________________________________________________________________\n",
            "Layer (type)                 Output Shape              Param #   \n",
            "=================================================================\n",
            "cropping2d_11 (Cropping2D)   (None, 100, 100, 3)       0         \n",
            "_________________________________________________________________\n",
            "conv2d_51 (Conv2D)           (None, 98, 98, 3)         84        \n",
            "_________________________________________________________________\n",
            "activation_51 (Activation)   (None, 98, 98, 3)         0         \n",
            "_________________________________________________________________\n",
            "dropout_21 (Dropout)         (None, 98, 98, 3)         0         \n",
            "_________________________________________________________________\n",
            "conv2d_52 (Conv2D)           (None, 48, 48, 24)        672       \n",
            "_________________________________________________________________\n",
            "activation_52 (Activation)   (None, 48, 48, 24)        0         \n",
            "_________________________________________________________________\n",
            "conv2d_53 (Conv2D)           (None, 46, 46, 36)        7812      \n",
            "_________________________________________________________________\n",
            "activation_53 (Activation)   (None, 46, 46, 36)        0         \n",
            "_________________________________________________________________\n",
            "dropout_22 (Dropout)         (None, 46, 46, 36)        0         \n",
            "_________________________________________________________________\n",
            "conv2d_54 (Conv2D)           (None, 44, 44, 48)        15600     \n",
            "_________________________________________________________________\n",
            "activation_54 (Activation)   (None, 44, 44, 48)        0         \n",
            "_________________________________________________________________\n",
            "conv2d_55 (Conv2D)           (None, 42, 42, 64)        27712     \n",
            "_________________________________________________________________\n",
            "activation_55 (Activation)   (None, 42, 42, 64)        0         \n",
            "_________________________________________________________________\n",
            "flatten_11 (Flatten)         (None, 112896)            0         \n",
            "_________________________________________________________________\n",
            "dense_41 (Dense)             (None, 50)                5644850   \n",
            "_________________________________________________________________\n",
            "dense_42 (Dense)             (None, 25)                1275      \n",
            "_________________________________________________________________\n",
            "dense_43 (Dense)             (None, 10)                260       \n",
            "_________________________________________________________________\n",
            "dense_44 (Dense)             (None, 2)                 22        \n",
            "=================================================================\n",
            "Total params: 5,698,287\n",
            "Trainable params: 5,698,287\n",
            "Non-trainable params: 0\n",
            "_________________________________________________________________\n",
            "['./colab/clothes_data/nope/image_1085.jpg', [1.0, 0]]\n",
            "160\n",
            "Epoch 1/4\n",
            " 36/160 [=====>........................] - ETA: 13s - loss: 0.1515"
          ],
          "name": "stdout"
        },
        {
          "output_type": "stream",
          "text": [
            "159/160 [============================>.] - ETA: 0s - loss: 0.054240\n",
            "160/160 [==============================] - 19s 118ms/step - loss: 0.0538 - val_loss: 0.1274\n",
            "Epoch 2/4\n",
            "160/160 [==============================] - 17s 107ms/step - loss: 0.0095 - val_loss: 0.1207\n",
            "Epoch 3/4\n",
            "160/160 [==============================] - 17s 107ms/step - loss: 0.0131 - val_loss: 0.0750\n",
            "Epoch 4/4\n",
            "  9/160 [>.............................] - ETA: 7s - loss: 0.1589"
          ],
          "name": "stdout"
        },
        {
          "output_type": "stream",
          "text": [
            "160/160 [==============================] - 17s 107ms/step - loss: 0.1355 - val_loss: 0.1010\n",
            "Model Generated\n"
          ],
          "name": "stdout"
        }
      ]
    },
    {
      "metadata": {
        "id": "_pWgI_lLZS1U",
        "colab_type": "code",
        "colab": {
          "autoexec": {
            "startup": false,
            "wait_interval": 0
          },
          "base_uri": "https://localhost:8080/",
          "height": 393
        },
        "outputId": "9d5cb6ae-7718-41e0-a4e3-85be13497289",
        "executionInfo": {
          "status": "ok",
          "timestamp": 1533287755438,
          "user_tz": -330,
          "elapsed": 1285,
          "user": {
            "displayName": "",
            "photoUrl": "",
            "userId": ""
          }
        }
      },
      "cell_type": "code",
      "source": [
        "print(history.history.keys())\n",
        "plt.plot(history.history['loss'])\n",
        "plt.plot(history.history['val_loss'])\n",
        "plt.title('model loss')\n",
        "plt.ylabel('loss')\n",
        "plt.xlabel('epoch')\n",
        "plt.legend(['train', 'test'], loc='upper left')\n",
        "plt.show()"
      ],
      "execution_count": 36,
      "outputs": [
        {
          "output_type": "stream",
          "text": [
            "dict_keys(['val_loss', 'loss'])\n"
          ],
          "name": "stdout"
        },
        {
          "output_type": "display_data",
          "data": {
            "image/png": "[encoded data removed]",
            "text/plain": [
              "<matplotlib.figure.Figure at 0x7f44f8be1710>"
            ]
          },
          "metadata": {
            "tags": []
          }
        }
      ]
    },
    {
      "metadata": {
        "id": "ejquxLIEZS1g",
        "colab_type": "code",
        "colab": {
          "autoexec": {
            "startup": false,
            "wait_interval": 0
          },
          "base_uri": "https://localhost:8080/",
          "height": 656
        },
        "outputId": "1ad8f6e8-ec36-44cf-f839-c84db85b58f8",
        "executionInfo": {
          "status": "error",
          "timestamp": 1533287435542,
          "user_tz": -330,
          "elapsed": 1881,
          "user": {
            "displayName": "",
            "photoUrl": "",
            "userId": ""
          }
        }
      },
      "cell_type": "code",
      "source": [
        "print(train_samples[0])\n",
        "img_list = []\n",
        "name = './data/IMG/' + train_samples[0][0].split('/')[-1]\n",
        "center_image = cv2.imread(name)\n",
        "left_image = read_image(train_samples[0][1])\n",
        "right_image = read_image(train_samples[0][2])\n",
        "img_list.append(center_image)\n",
        "img_list.append(left_image)\n",
        "img_list.append(right_image)\n",
        "\n",
        "flip_output = horizontal_flip(center_image, 0)\n",
        "img_list.append(flip_output[0])\n",
        "flip_output = horizontal_flip(left_image, 0)\n",
        "img_list.append(flip_output[0])\n",
        "flip_output = horizontal_flip(right_image, 0)\n",
        "img_list.append(flip_output[0])\n",
        "\n",
        "fig = plt.figure(figsize=(75, 150))\n",
        "# plt.imshow(center_image)\n",
        "# plt.imshow(flip_image)\n",
        "columns = 3\n",
        "rows = 2\n",
        "w=100\n",
        "h=100\n",
        "for i in range(1, columns*rows +1):\n",
        "    img = np.random.randint(10, size=(h,w))\n",
        "    fig.add_subplot(rows, columns, i)\n",
        "    plt.imshow(img_list[i-1])\n",
        "plt.show()\n",
        "\n",
        "\n"
      ],
      "execution_count": 28,
      "outputs": [
        {
          "output_type": "stream",
          "text": [
            "['./colab/clothes_data/nope/image_1421.jpg', [1.0, 0]]\n"
          ],
          "name": "stdout"
        },
        {
          "output_type": "error",
          "ename": "AttributeError",
          "evalue": "ignored",
          "traceback": [
            "\u001b[0;31m---------------------------------------------------------------------------\u001b[0m",
            "\u001b[0;31mAttributeError\u001b[0m                            Traceback (most recent call last)",
            "\u001b[0;32m/usr/local/lib/python3.6/dist-packages/PIL/Image.py\u001b[0m in \u001b[0;36mopen\u001b[0;34m(fp, mode)\u001b[0m\n\u001b[1;32m   2314\u001b[0m     \u001b[0;32mtry\u001b[0m\u001b[0;34m:\u001b[0m\u001b[0;34m\u001b[0m\u001b[0m\n\u001b[0;32m-> 2315\u001b[0;31m         \u001b[0mfp\u001b[0m\u001b[0;34m.\u001b[0m\u001b[0mseek\u001b[0m\u001b[0;34m(\u001b[0m\u001b[0;36m0\u001b[0m\u001b[0;34m)\u001b[0m\u001b[0;34m\u001b[0m\u001b[0m\n\u001b[0m\u001b[1;32m   2316\u001b[0m     \u001b[0;32mexcept\u001b[0m \u001b[0;34m(\u001b[0m\u001b[0mAttributeError\u001b[0m\u001b[0;34m,\u001b[0m \u001b[0mio\u001b[0m\u001b[0;34m.\u001b[0m\u001b[0mUnsupportedOperation\u001b[0m\u001b[0;34m)\u001b[0m\u001b[0;34m:\u001b[0m\u001b[0;34m\u001b[0m\u001b[0m\n",
            "\u001b[0;31mAttributeError\u001b[0m: 'list' object has no attribute 'seek'",
            "\nDuring handling of the above exception, another exception occurred:\n",
            "\u001b[0;31mAttributeError\u001b[0m                            Traceback (most recent call last)",
            "\u001b[0;32m<ipython-input-28-462cbd5e5292>\u001b[0m in \u001b[0;36m<module>\u001b[0;34m()\u001b[0m\n\u001b[1;32m      3\u001b[0m \u001b[0mname\u001b[0m \u001b[0;34m=\u001b[0m \u001b[0;34m'./data/IMG/'\u001b[0m \u001b[0;34m+\u001b[0m \u001b[0mtrain_samples\u001b[0m\u001b[0;34m[\u001b[0m\u001b[0;36m0\u001b[0m\u001b[0;34m]\u001b[0m\u001b[0;34m[\u001b[0m\u001b[0;36m0\u001b[0m\u001b[0;34m]\u001b[0m\u001b[0;34m.\u001b[0m\u001b[0msplit\u001b[0m\u001b[0;34m(\u001b[0m\u001b[0;34m'/'\u001b[0m\u001b[0;34m)\u001b[0m\u001b[0;34m[\u001b[0m\u001b[0;34m-\u001b[0m\u001b[0;36m1\u001b[0m\u001b[0;34m]\u001b[0m\u001b[0;34m\u001b[0m\u001b[0m\n\u001b[1;32m      4\u001b[0m \u001b[0mcenter_image\u001b[0m \u001b[0;34m=\u001b[0m \u001b[0mcv2\u001b[0m\u001b[0;34m.\u001b[0m\u001b[0mimread\u001b[0m\u001b[0;34m(\u001b[0m\u001b[0mname\u001b[0m\u001b[0;34m)\u001b[0m\u001b[0;34m\u001b[0m\u001b[0m\n\u001b[0;32m----> 5\u001b[0;31m \u001b[0mleft_image\u001b[0m \u001b[0;34m=\u001b[0m \u001b[0mread_image\u001b[0m\u001b[0;34m(\u001b[0m\u001b[0mtrain_samples\u001b[0m\u001b[0;34m[\u001b[0m\u001b[0;36m0\u001b[0m\u001b[0;34m]\u001b[0m\u001b[0;34m[\u001b[0m\u001b[0;36m1\u001b[0m\u001b[0;34m]\u001b[0m\u001b[0;34m)\u001b[0m\u001b[0;34m\u001b[0m\u001b[0m\n\u001b[0m\u001b[1;32m      6\u001b[0m \u001b[0mright_image\u001b[0m \u001b[0;34m=\u001b[0m \u001b[0mread_image\u001b[0m\u001b[0;34m(\u001b[0m\u001b[0mtrain_samples\u001b[0m\u001b[0;34m[\u001b[0m\u001b[0;36m0\u001b[0m\u001b[0;34m]\u001b[0m\u001b[0;34m[\u001b[0m\u001b[0;36m2\u001b[0m\u001b[0;34m]\u001b[0m\u001b[0;34m)\u001b[0m\u001b[0;34m\u001b[0m\u001b[0m\n\u001b[1;32m      7\u001b[0m \u001b[0mimg_list\u001b[0m\u001b[0;34m.\u001b[0m\u001b[0mappend\u001b[0m\u001b[0;34m(\u001b[0m\u001b[0mcenter_image\u001b[0m\u001b[0;34m)\u001b[0m\u001b[0;34m\u001b[0m\u001b[0m\n",
            "\u001b[0;32m<ipython-input-6-47dafd0ec9f0>\u001b[0m in \u001b[0;36mread_image\u001b[0;34m(path)\u001b[0m\n\u001b[1;32m     21\u001b[0m \u001b[0;31m#converts the image to RGB color model and returns it.\u001b[0m\u001b[0;34m\u001b[0m\u001b[0;34m\u001b[0m\u001b[0m\n\u001b[1;32m     22\u001b[0m \u001b[0;32mdef\u001b[0m \u001b[0mread_image\u001b[0m\u001b[0;34m(\u001b[0m\u001b[0mpath\u001b[0m\u001b[0;34m)\u001b[0m\u001b[0;34m:\u001b[0m\u001b[0;34m\u001b[0m\u001b[0m\n\u001b[0;32m---> 23\u001b[0;31m     \u001b[0mimg\u001b[0m \u001b[0;34m=\u001b[0m \u001b[0mPIL\u001b[0m\u001b[0;34m.\u001b[0m\u001b[0mImage\u001b[0m\u001b[0;34m.\u001b[0m\u001b[0mopen\u001b[0m\u001b[0;34m(\u001b[0m\u001b[0mpath\u001b[0m\u001b[0;34m)\u001b[0m\u001b[0;34m.\u001b[0m\u001b[0mconvert\u001b[0m\u001b[0;34m(\u001b[0m\u001b[0;34m'RGB'\u001b[0m\u001b[0;34m)\u001b[0m\u001b[0;34m\u001b[0m\u001b[0m\n\u001b[0m\u001b[1;32m     24\u001b[0m     \u001b[0mimg\u001b[0m \u001b[0;34m=\u001b[0m \u001b[0mmake_square\u001b[0m\u001b[0;34m(\u001b[0m\u001b[0mimg\u001b[0m\u001b[0;34m)\u001b[0m\u001b[0;34m\u001b[0m\u001b[0m\n\u001b[1;32m     25\u001b[0m     \u001b[0mimg\u001b[0m \u001b[0;34m=\u001b[0m \u001b[0mimg\u001b[0m\u001b[0;34m.\u001b[0m\u001b[0mresize\u001b[0m\u001b[0;34m(\u001b[0m\u001b[0;34m(\u001b[0m\u001b[0;36m100\u001b[0m\u001b[0;34m,\u001b[0m \u001b[0;36m100\u001b[0m\u001b[0;34m)\u001b[0m\u001b[0;34m,\u001b[0m \u001b[0mImage\u001b[0m\u001b[0;34m.\u001b[0m\u001b[0mANTIALIAS\u001b[0m\u001b[0;34m)\u001b[0m\u001b[0;34m\u001b[0m\u001b[0m\n",
            "\u001b[0;32m/usr/local/lib/python3.6/dist-packages/PIL/Image.py\u001b[0m in \u001b[0;36mopen\u001b[0;34m(fp, mode)\u001b[0m\n\u001b[1;32m   2315\u001b[0m         \u001b[0mfp\u001b[0m\u001b[0;34m.\u001b[0m\u001b[0mseek\u001b[0m\u001b[0;34m(\u001b[0m\u001b[0;36m0\u001b[0m\u001b[0;34m)\u001b[0m\u001b[0;34m\u001b[0m\u001b[0m\n\u001b[1;32m   2316\u001b[0m     \u001b[0;32mexcept\u001b[0m \u001b[0;34m(\u001b[0m\u001b[0mAttributeError\u001b[0m\u001b[0;34m,\u001b[0m \u001b[0mio\u001b[0m\u001b[0;34m.\u001b[0m\u001b[0mUnsupportedOperation\u001b[0m\u001b[0;34m)\u001b[0m\u001b[0;34m:\u001b[0m\u001b[0;34m\u001b[0m\u001b[0m\n\u001b[0;32m-> 2317\u001b[0;31m         \u001b[0mfp\u001b[0m \u001b[0;34m=\u001b[0m \u001b[0mio\u001b[0m\u001b[0;34m.\u001b[0m\u001b[0mBytesIO\u001b[0m\u001b[0;34m(\u001b[0m\u001b[0mfp\u001b[0m\u001b[0;34m.\u001b[0m\u001b[0mread\u001b[0m\u001b[0;34m(\u001b[0m\u001b[0;34m)\u001b[0m\u001b[0;34m)\u001b[0m\u001b[0;34m\u001b[0m\u001b[0m\n\u001b[0m\u001b[1;32m   2318\u001b[0m \u001b[0;34m\u001b[0m\u001b[0m\n\u001b[1;32m   2319\u001b[0m     \u001b[0mprefix\u001b[0m \u001b[0;34m=\u001b[0m \u001b[0mfp\u001b[0m\u001b[0;34m.\u001b[0m\u001b[0mread\u001b[0m\u001b[0;34m(\u001b[0m\u001b[0;36m16\u001b[0m\u001b[0;34m)\u001b[0m\u001b[0;34m\u001b[0m\u001b[0m\n",
            "\u001b[0;31mAttributeError\u001b[0m: 'list' object has no attribute 'read'"
          ]
        }
      ]
    },
    {
      "metadata": {
        "id": "TuAIqF6OZS1o",
        "colab_type": "code",
        "colab": {
          "autoexec": {
            "startup": false,
            "wait_interval": 0
          }
        }
      },
      "cell_type": "code",
      "source": [
        ""
      ],
      "execution_count": 0,
      "outputs": []
    },
    {
      "metadata": {
        "id": "GhQhIugvZS10",
        "colab_type": "code",
        "colab": {
          "autoexec": {
            "startup": false,
            "wait_interval": 0
          },
          "base_uri": "https://localhost:8080/",
          "height": 1907
        },
        "outputId": "793fc52b-aff1-4a7d-ec0f-b8df93f1bb2d",
        "executionInfo": {
          "status": "ok",
          "timestamp": 1533287817000,
          "user_tz": -330,
          "elapsed": 2726,
          "user": {
            "displayName": "",
            "photoUrl": "",
            "userId": ""
          }
        }
      },
      "cell_type": "code",
      "source": [
        "def load_trained_model(weights_path):\n",
        "    model = NvidiaNet()\n",
        "    model.load_weights(weights_path)\n",
        "    return model\n",
        "\n",
        "\n",
        "fishing = load_trained_model(\"./model.h5\")\n",
        "\n",
        "#score = fishing.evaluate(x_test, y_test, batch_size=32)\n",
        "for sampl in samples_nope:\n",
        "  img = read_image(sampl)\n",
        "  prediction = fishing.predict(np.expand_dims(img, axis=0))\n",
        "  #plt.imshow(img)\n",
        "  #plt.show()\n",
        "  print(prediction)\n",
        "   "
      ],
      "execution_count": 38,
      "outputs": [
        {
          "output_type": "stream",
          "text": [
            "/usr/local/lib/python3.6/dist-packages/ipykernel_launcher.py:15: UserWarning: Update your `Conv2D` call to the Keras 2 API: `Conv2D(kernel_size=(3, 3), filters=3, strides=(1, 1))`\n",
            "  from ipykernel import kernelapp as app\n",
            "/usr/local/lib/python3.6/dist-packages/ipykernel_launcher.py:23: UserWarning: Update your `Conv2D` call to the Keras 2 API: `Conv2D(kernel_size=(3, 3), filters=24, strides=(2, 2))`\n",
            "/usr/local/lib/python3.6/dist-packages/ipykernel_launcher.py:28: UserWarning: Update your `Conv2D` call to the Keras 2 API: `Conv2D(kernel_size=(3, 3), filters=36, strides=(1, 1))`\n",
            "/usr/local/lib/python3.6/dist-packages/ipykernel_launcher.py:36: UserWarning: Update your `Conv2D` call to the Keras 2 API: `Conv2D(kernel_size=(3, 3), filters=48)`\n",
            "/usr/local/lib/python3.6/dist-packages/ipykernel_launcher.py:41: UserWarning: Update your `Conv2D` call to the Keras 2 API: `Conv2D(kernel_size=(3, 3), filters=64)`\n",
            "/usr/local/lib/python3.6/dist-packages/ipykernel_launcher.py:49: UserWarning: Update your `Dense` call to the Keras 2 API: `Dense(units=50)`\n",
            "/usr/local/lib/python3.6/dist-packages/ipykernel_launcher.py:52: UserWarning: Update your `Dense` call to the Keras 2 API: `Dense(units=25)`\n",
            "/usr/local/lib/python3.6/dist-packages/ipykernel_launcher.py:55: UserWarning: Update your `Dense` call to the Keras 2 API: `Dense(units=10)`\n",
            "/usr/local/lib/python3.6/dist-packages/ipykernel_launcher.py:58: UserWarning: Update your `Dense` call to the Keras 2 API: `Dense(activation=\"softmax\", units=2)`\n"
          ],
          "name": "stderr"
        },
        {
          "output_type": "stream",
          "text": [
            "[[1.0000000e+00 4.5248284e-28]]\n",
            "[[1.000000e+00 1.006518e-14]]\n",
            "[[1. 0.]]\n",
            "[[1. 0.]]\n",
            "[[1. 0.]]\n",
            "[[9.9971265e-01 2.8735638e-04]]\n",
            "[[1. 0.]]\n",
            "[[0.41952395 0.58047605]]\n",
            "[[1. 0.]]\n",
            "[[1. 0.]]\n",
            "[[1. 0.]]\n",
            "[[1.000000e+00 5.455979e-12]]\n",
            "[[1.0000000e+00 1.6680105e-29]]\n",
            "[[1. 0.]]\n",
            "[[1. 0.]]\n",
            "[[1. 0.]]\n",
            "[[1. 0.]]\n",
            "[[1. 0.]]\n",
            "[[1.0000000e+00 1.9943533e-36]]\n",
            "[[1. 0.]]\n",
            "[[1. 0.]]\n",
            "[[1.0000000e+00 2.4044035e-12]]\n",
            "[[1. 0.]]\n",
            "[[0.9681672  0.03183283]]\n",
            "[[1.0000000e+00 1.4206602e-19]]\n",
            "[[1. 0.]]\n",
            "[[1.000000e+00 9.683524e-26]]\n",
            "[[1. 0.]]\n",
            "[[1. 0.]]\n",
            "[[1.0000000e+00 4.0404433e-23]]\n",
            "[[1.0000000e+00 5.9116976e-20]]\n",
            "[[0. 1.]]\n",
            "[[1. 0.]]\n",
            "[[1.000000e+00 6.667922e-30]]\n",
            "[[1.0000000e+00 1.1529053e-36]]\n",
            "[[1. 0.]]\n",
            "[[9.9997044e-01 2.9525960e-05]]\n",
            "[[1. 0.]]\n",
            "[[1. 0.]]\n",
            "[[1. 0.]]\n",
            "[[0.93178976 0.06821018]]\n",
            "[[9.997732e-01 2.267539e-04]]\n",
            "[[1. 0.]]\n",
            "[[1.0000000e+00 5.7860932e-18]]\n",
            "[[1. 0.]]\n",
            "[[1.0000000e+00 3.6128457e-31]]\n",
            "[[0.99599373 0.00400623]]\n",
            "[[0. 1.]]\n",
            "[[1.0000000e+00 1.1868488e-32]]\n",
            "[[1.000000e+00 6.882993e-24]]\n",
            "[[1. 0.]]\n",
            "[[1.0000000e+00 7.8559797e-31]]\n",
            "[[1. 0.]]\n",
            "[[1. 0.]]\n",
            "[[8.719387e-25 1.000000e+00]]\n",
            "[[1.0000000e+00 2.3216515e-20]]\n",
            "[[1. 0.]]\n",
            "[[1. 0.]]\n",
            "[[1.0000000e+00 1.0653126e-27]]\n",
            "[[1.0000000e+00 2.4001415e-35]]\n",
            "[[1. 0.]]\n",
            "[[1.000000e+00 4.996344e-13]]\n",
            "[[1.0000000e+00 1.1888731e-19]]\n",
            "[[1.05272166e-10 1.00000000e+00]]\n",
            "[[1. 0.]]\n",
            "[[1. 0.]]\n",
            "[[1. 0.]]\n",
            "[[1.00000e+00 1.75655e-28]]\n",
            "[[1. 0.]]\n",
            "[[1.000000e+00 5.251196e-13]]\n",
            "[[1. 0.]]\n",
            "[[9.9998713e-01 1.2881868e-05]]\n",
            "[[1.1305139e-09 1.0000000e+00]]\n",
            "[[1. 0.]]\n",
            "[[1.0000000e+00 3.6465674e-35]]\n",
            "[[1. 0.]]\n",
            "[[1.0000000e+00 6.2252477e-30]]\n",
            "[[1. 0.]]\n",
            "[[1. 0.]]\n",
            "[[0. 1.]]\n",
            "[[1. 0.]]\n",
            "[[0. 1.]]\n",
            "[[1. 0.]]\n",
            "[[1.0000000e+00 2.1185242e-10]]\n",
            "[[1. 0.]]\n",
            "[[1. 0.]]\n",
            "[[1.0000000e+00 1.0640719e-23]]\n",
            "[[1. 0.]]\n",
            "[[1.00000e+00 3.73186e-36]]\n",
            "[[1. 0.]]\n",
            "[[1. 0.]]\n",
            "[[1. 0.]]\n",
            "[[1. 0.]]\n",
            "[[1.0000000e+00 1.0474154e-30]]\n",
            "[[1. 0.]]\n",
            "[[0. 1.]]\n",
            "[[1. 0.]]\n",
            "[[1. 0.]]\n",
            "[[1. 0.]]\n",
            "[[1. 0.]]\n"
          ],
          "name": "stdout"
        }
      ]
    },
    {
      "metadata": {
        "id": "eXdpUE46ZS18",
        "colab_type": "code",
        "colab": {
          "autoexec": {
            "startup": false,
            "wait_interval": 0
          }
        }
      },
      "cell_type": "code",
      "source": [
        "\n"
      ],
      "execution_count": 0,
      "outputs": []
    },
    {
      "metadata": {
        "id": "WDx0w3NzZS2I",
        "colab_type": "code",
        "colab": {
          "autoexec": {
            "startup": false,
            "wait_interval": 0
          }
        }
      },
      "cell_type": "code",
      "source": [
        ""
      ],
      "execution_count": 0,
      "outputs": []
    }
  ]
}